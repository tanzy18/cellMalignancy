{
 "cells": [
  {
   "cell_type": "code",
   "execution_count": 8,
   "metadata": {},
   "outputs": [
    {
     "name": "stdout",
     "output_type": "stream",
     "text": [
      "ENSG00000243485      MIR1302-10\n",
      "ENSG00000237613         FAM138A\n",
      "ENSG00000186092           OR4F5\n",
      "ENSG00000238009    RP11-34P13.7\n",
      "ENSG00000239945    RP11-34P13.8\n",
      "                       ...     \n",
      "ENSG00000215635      AC145205.1\n",
      "ENSG00000268590           BAGE5\n",
      "ENSG00000251180      CU459201.1\n",
      "ENSG00000215616      AC002321.2\n",
      "ENSG00000215611      AC002321.1\n",
      "Length: 32738, dtype: object\n"
     ]
    }
   ],
   "source": [
    "import numpy as np\n",
    "import pandas as pd\n",
    "\n",
    "df = pd.read_csv('../data/sampleMatrixSelect100.txt', sep='\\t', index_col=0)\n",
    "\n",
    "map = pd.read_csv('./features.tsv', sep='\\t', names=['EnsembleID','GeneID','GeneType'])\n",
    "map = pd.Series(index=map.iloc[:,0].values, data=map.iloc[:,1].values)\n",
    "print(map)"
   ]
  },
  {
   "cell_type": "code",
   "execution_count": 9,
   "metadata": {},
   "outputs": [
    {
     "name": "stdout",
     "output_type": "stream",
     "text": [
      "['ENSG00000242268.2' 'ENSG00000270112.3' 'ENSG00000167578.15' ...\n",
      " 'ENSG00000280861.1' 'ENSG00000123685.7' 'ENSG00000181518.3']\n"
     ]
    }
   ],
   "source": [
    "cur_col = np.array(df.columns)\n",
    "cur_col = np.delete(cur_col, [-1,-2])\n",
    "print(cur_col)\n",
    "# print(map['ENSG00000273842'])"
   ]
  },
  {
   "cell_type": "code",
   "execution_count": 10,
   "metadata": {},
   "outputs": [],
   "source": [
    "deleteList = []\n",
    "cnt = 0\n",
    "keys = np.array(map.index)\n",
    "for ensembleID in cur_col:\n",
    "    ensembleIDwithoutV = ensembleID.split('.')[0]\n",
    "    if ensembleIDwithoutV not in keys:\n",
    "        cnt += 1\n",
    "        deleteList.append(ensembleID)\n",
    "        continue\n",
    "    geneID = map[ensembleIDwithoutV]\n",
    "    df.rename(columns={ensembleID: geneID}, inplace=True)\n",
    "df.drop(columns=deleteList, inplace=True)"
   ]
  },
  {
   "cell_type": "code",
   "execution_count": 12,
   "metadata": {},
   "outputs": [],
   "source": [
    "df.to_csv('../sampleMatrix100Gene.txt', sep='\\t')"
   ]
  },
  {
   "cell_type": "code",
   "execution_count": 11,
   "metadata": {},
   "outputs": [
    {
     "name": "stdout",
     "output_type": "stream",
     "text": [
      "                                      RP11-368I23.2     RAB4B   C12orf5  \\\n",
      "5d2b7892-4975-4e3e-8511-98abac197bdd       0.000000  2.440175  0.863149   \n",
      "f62487b0-56bf-4149-bdb9-1262cd9a2175       0.048086  6.087613  3.196124   \n",
      "6eb3154d-0d7d-405a-8053-8beaa9e1bf28       0.000000  4.800406  1.684784   \n",
      "86f47d21-30bc-4770-9ec0-f5ca1ea589a3       0.168496  7.074019  3.585409   \n",
      "8483ca35-ad2c-4437-886e-4a0cd2cc9ec8       0.092042  2.184424  2.870822   \n",
      "\n",
      "                                          RNF44     DNAH3      RPL23A  \\\n",
      "5d2b7892-4975-4e3e-8511-98abac197bdd  15.953637  0.003524  289.231551   \n",
      "f62487b0-56bf-4149-bdb9-1262cd9a2175   8.073787  0.006846  208.841175   \n",
      "6eb3154d-0d7d-405a-8053-8beaa9e1bf28   7.221041  0.002814  276.786079   \n",
      "86f47d21-30bc-4770-9ec0-f5ca1ea589a3  21.144914  0.246302  149.455724   \n",
      "8483ca35-ad2c-4437-886e-4a0cd2cc9ec8  13.229359  0.010484  185.026005   \n",
      "\n",
      "                                      CTD-2382E5.4      ARL8B  RP11-166P13.4  \\\n",
      "5d2b7892-4975-4e3e-8511-98abac197bdd      0.017092  15.706330       0.018470   \n",
      "f62487b0-56bf-4149-bdb9-1262cd9a2175      0.088563  21.810669       0.000000   \n",
      "6eb3154d-0d7d-405a-8053-8beaa9e1bf28      0.000000  17.161571       0.019664   \n",
      "86f47d21-30bc-4770-9ec0-f5ca1ea589a3      0.124132  33.902526       0.095013   \n",
      "8483ca35-ad2c-4437-886e-4a0cd2cc9ec8      0.322089  19.082382       0.125174   \n",
      "\n",
      "                                         CALB2  ...  GABARAPL3     CYP4F2  \\\n",
      "5d2b7892-4975-4e3e-8511-98abac197bdd  0.123812  ...        0.0   0.004194   \n",
      "f62487b0-56bf-4149-bdb9-1262cd9a2175  0.110261  ...        0.0   0.010866   \n",
      "6eb3154d-0d7d-405a-8053-8beaa9e1bf28  0.173014  ...        0.0  10.087553   \n",
      "86f47d21-30bc-4770-9ec0-f5ca1ea589a3  1.433059  ...        0.0   2.086522   \n",
      "8483ca35-ad2c-4437-886e-4a0cd2cc9ec8  0.092096  ...        0.0   0.012479   \n",
      "\n",
      "                                      AC010525.4  RP11-713D19.1     PPP6R1  \\\n",
      "5d2b7892-4975-4e3e-8511-98abac197bdd    0.089648       0.154675   8.728134   \n",
      "f62487b0-56bf-4149-bdb9-1262cd9a2175    0.000000       0.000000   7.914182   \n",
      "6eb3154d-0d7d-405a-8053-8beaa9e1bf28    0.190892       0.000000   8.478455   \n",
      "86f47d21-30bc-4770-9ec0-f5ca1ea589a3    0.217020       0.168496  21.364090   \n",
      "8483ca35-ad2c-4437-886e-4a0cd2cc9ec8    0.148186       0.000000  10.018433   \n",
      "\n",
      "                                      RP4-569M23.2     BATF3  OR8D4  \\\n",
      "5d2b7892-4975-4e3e-8511-98abac197bdd      0.327818  0.058289    0.0   \n",
      "f62487b0-56bf-4149-bdb9-1262cd9a2175      0.528439  0.729883    0.0   \n",
      "6eb3154d-0d7d-405a-8053-8beaa9e1bf28      0.186144  0.729197    0.0   \n",
      "86f47d21-30bc-4770-9ec0-f5ca1ea589a3      0.383564  0.291033    0.0   \n",
      "8483ca35-ad2c-4437-886e-4a0cd2cc9ec8      0.057800  0.785261    0.0   \n",
      "\n",
      "                                           type  label  \n",
      "5d2b7892-4975-4e3e-8511-98abac197bdd  TCGA-PRAD   True  \n",
      "f62487b0-56bf-4149-bdb9-1262cd9a2175  TCGA-KIRP   True  \n",
      "6eb3154d-0d7d-405a-8053-8beaa9e1bf28  TCGA-KIRP   True  \n",
      "86f47d21-30bc-4770-9ec0-f5ca1ea589a3  TCGA-KIRP   True  \n",
      "8483ca35-ad2c-4437-886e-4a0cd2cc9ec8  TCGA-KIRC   True  \n",
      "\n",
      "[5 rows x 31533 columns]\n",
      "28952\n"
     ]
    }
   ],
   "source": [
    "print(df.head())\n",
    "print(cnt)"
   ]
  }
 ],
 "metadata": {
  "interpreter": {
   "hash": "95ab7303ed2746327945aa376054eddca8c4eca362915ff95db932dbe7e7ee41"
  },
  "kernelspec": {
   "display_name": "Python 3.8.3 64-bit",
   "language": "python",
   "name": "python3"
  },
  "language_info": {
   "codemirror_mode": {
    "name": "ipython",
    "version": 3
   },
   "file_extension": ".py",
   "mimetype": "text/x-python",
   "name": "python",
   "nbconvert_exporter": "python",
   "pygments_lexer": "ipython3",
   "version": "3.8.3"
  },
  "orig_nbformat": 4
 },
 "nbformat": 4,
 "nbformat_minor": 2
}
